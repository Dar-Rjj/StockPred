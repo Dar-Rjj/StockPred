{
 "cells": [
  {
   "cell_type": "code",
   "execution_count": 1,
   "id": "29bb818d",
   "metadata": {},
   "outputs": [
    {
     "data": {
      "text/plain": [
       "False"
      ]
     },
     "execution_count": 1,
     "metadata": {},
     "output_type": "execute_result"
    }
   ],
   "source": [
    "import torch\n",
    "torch.cuda.is_available()"
   ]
  },
  {
   "cell_type": "code",
   "execution_count": 3,
   "id": "0cfa2f63",
   "metadata": {},
   "outputs": [
    {
     "name": "stdout",
     "output_type": "stream",
     "text": [
      "tensor([[0.2947, 0.6026, 0.3936],\n",
      "        [0.1432, 0.2291, 0.5525],\n",
      "        [0.5219, 0.0638, 0.4893],\n",
      "        [0.5170, 0.8382, 0.2788],\n",
      "        [0.0947, 0.8991, 0.6488]])\n"
     ]
    }
   ],
   "source": [
    "import torch\n",
    "print(torch.rand(5, 3))"
   ]
  }
 ],
 "metadata": {
  "kernelspec": {
   "display_name": "StockPred",
   "language": "python",
   "name": "python3"
  },
  "language_info": {
   "codemirror_mode": {
    "name": "ipython",
    "version": 3
   },
   "file_extension": ".py",
   "mimetype": "text/x-python",
   "name": "python",
   "nbconvert_exporter": "python",
   "pygments_lexer": "ipython3",
   "version": "3.10.16"
  }
 },
 "nbformat": 4,
 "nbformat_minor": 5
}
